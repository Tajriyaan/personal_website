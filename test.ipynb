{
 "cells": [
  {
   "cell_type": "code",
   "execution_count": 2,
   "metadata": {},
   "outputs": [
    {
     "name": "stdout",
     "output_type": "stream",
     "text": [
      "Connected to MySQL database\n",
      "Connection closed\n"
     ]
    }
   ],
   "source": [
    "import pymysql\n",
    "\n",
    "# Database connection configuration\n",
    "db_config = {\n",
    "    \"host\": \"103.169.160.17\",\n",
    "    \"user\": \"myuser\",\n",
    "    \"password\": \"asoijv#2314\",\n",
    "    \"db\": \"blog\",  # Replace with your database name\n",
    "    \"port\": 3306\n",
    "}\n",
    "\n",
    "# Establish the database connection\n",
    "try:\n",
    "    connection = pymysql.connect(**db_config)\n",
    "    if connection != None:\n",
    "        print(\"Connected to MySQL database\")\n",
    "    \n",
    "    # You can perform database operations here\n",
    "    \n",
    "except pymysql.Error as err:\n",
    "    print(\"Error:\", err)\n",
    "\n",
    "finally:\n",
    "    if connection and connection.open:\n",
    "        connection.close()\n",
    "        print(\"Connection closed\")\n"
   ]
  }
 ],
 "metadata": {
  "kernelspec": {
   "display_name": "Python 3",
   "language": "python",
   "name": "python3"
  },
  "language_info": {
   "codemirror_mode": {
    "name": "ipython",
    "version": 3
   },
   "file_extension": ".py",
   "mimetype": "text/x-python",
   "name": "python",
   "nbconvert_exporter": "python",
   "pygments_lexer": "ipython3",
   "version": "3.10.11"
  },
  "orig_nbformat": 4
 },
 "nbformat": 4,
 "nbformat_minor": 2
}
